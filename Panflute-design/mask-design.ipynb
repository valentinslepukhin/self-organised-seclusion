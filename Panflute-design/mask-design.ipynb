{
 "cells": [
  {
   "cell_type": "code",
   "execution_count": 1,
   "id": "d1d4815a-f602-48e8-97c3-450cdb7df660",
   "metadata": {},
   "outputs": [],
   "source": [
    "import numpy as np\n",
    "import math\n",
    "import matplotlib.pyplot as plt\n",
    "import panflute as pnfl"
   ]
  },
  {
   "cell_type": "code",
   "execution_count": 2,
   "id": "2ae3617e-a3e1-4782-ac92-2a32aadec489",
   "metadata": {},
   "outputs": [
    {
     "name": "stdout",
     "output_type": "stream",
     "text": [
      "num =  0\n",
      "20\n",
      "num =  2\n",
      "20\n"
     ]
    }
   ],
   "source": [
    "\n",
    "\n",
    "params_narrow = {} #parameters for the narrow cavities\n",
    "params_wide = {}  #parameters for the wide cavities\n",
    "params = {} #general parameters\n",
    "\n",
    "\n",
    "params_wide['h'] = 10 #Step in cavity length\n",
    "params_narrow['h'] = 10\n",
    "\n",
    "params_narrow['nstart'] = 15 #Initial length (*h) to start\n",
    "params_wide['nstart'] = 30\n",
    "params_narrow['nfin'] = 55 #Final length\n",
    "params_wide['nfin'] = 60\n",
    "\n",
    "params_narrow['L'] = 50 #Cavity width\n",
    "params_wide['L'] = 80\n",
    "\n",
    "params_wide['a'] = 50 #Distance between two cavities\n",
    "params_narrow['a'] = 50\n",
    "\n",
    "params_narrow['r'] = 15 #Radius of the obstacle\n",
    "params_wide['r'] = 20\n",
    "\n",
    "params['H2'] = 50 #Height of the funnel (for cavities with a funnel shape at the bottom) \n",
    "params['L2'] = 20 #Additional width of the funnel\n",
    "W = 80\n",
    "params['W'] = W #Width of the main channel\n",
    "\n",
    "side = 575 #The side of the hexagon, the inlet for syringe\n",
    "n_layers = 4 #how many layers of small columns inside the outlet, to support from collapse\n",
    "\n",
    "\n",
    "params['shift'] = 1000 #Distance from panflute itself to outlet, times 3\n",
    "params['side'] = side\n",
    "\n",
    "params['ext4'] = W/2 #Parameters descriding how main channel is attached to inlet\n",
    "params['ext2'] = W\n",
    "ext2 = params['ext2']\n",
    "params['ext3'] = 2*W\n",
    "params['ext1'] = ext2 / np.sqrt(3)\n",
    "\n",
    "params['sm_side'] = side / 25 #Size of the columns supporting the inlet\n",
    "params['n_layers'] = n_layers\n",
    "params['interval'] = side / (n_layers + 1) #Interval between those columns\n",
    "\n",
    "\n",
    "params['in_pair_distance'] = 5000 #distance in the pair of two panflutes, between panflutes\n",
    "\n",
    "params['interpair_distance_x'] = 20000 #Distance between pairs in x direction\n",
    "params['interpair_distance_y'] = 15000 #in y direction\n",
    "\n",
    "params['R'] = 53000 #Size of the mask\n",
    "\n",
    "\n",
    "\n",
    "# Save to file\n",
    "filename = 'panflute-two-inlet-4.scr' #Draw mask to later print\n",
    "with open(filename, 'w') as f:   \n",
    "    params['num'] = 0\n",
    "    params['x_in'] = 0.0\n",
    "    params['y_in'] = 0.0\n",
    "    pnfl.draw_one_mask(params, params_narrow, params_wide, f)\n",
    "    params['x_in']  = 120000\n",
    "    params['y_in'] = 0.0\n",
    "    params['num'] = 2\n",
    "    pnfl.draw_one_mask(params, params_narrow, params_wide, f) #We can fit 2 masks on A4 sheet so we do it \n",
    "    \n",
    "    "
   ]
  },
  {
   "cell_type": "code",
   "execution_count": 3,
   "id": "fccf33ff-a66c-46f6-91d0-4ab967ca4f8c",
   "metadata": {},
   "outputs": [],
   "source": [
    "filename = 'panflute-comsol.scr' #Draw mask to use in COMSOL\n",
    "with open(filename, 'w') as f:    \n",
    "    params['num'] = 0\n",
    "    params['x_in'] = 0.0\n",
    "    params['y_in'] = 0.0\n",
    "    pnfl.draw_comsol_panflute(params, params_narrow, f)\n"
   ]
  },
  {
   "cell_type": "code",
   "execution_count": null,
   "id": "fcf6b5e3",
   "metadata": {},
   "outputs": [],
   "source": []
  }
 ],
 "metadata": {
  "kernelspec": {
   "display_name": "Python 3 (ipykernel)",
   "language": "python",
   "name": "python3"
  },
  "language_info": {
   "codemirror_mode": {
    "name": "ipython",
    "version": 3
   },
   "file_extension": ".py",
   "mimetype": "text/x-python",
   "name": "python",
   "nbconvert_exporter": "python",
   "pygments_lexer": "ipython3",
   "version": "3.11.3"
  }
 },
 "nbformat": 4,
 "nbformat_minor": 5
}
